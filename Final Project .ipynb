{
 "cells": [
  {
   "cell_type": "code",
   "execution_count": 1,
   "metadata": {},
   "outputs": [],
   "source": [
    "import pandas as pd\n",
    "import numpy as np\n",
    "import matplotlib.pyplot as plt\n",
    "import seaborn as sns\n",
    "##"
   ]
  },
  {
   "cell_type": "code",
   "execution_count": 2,
   "metadata": {},
   "outputs": [
    {
     "data": {
      "text/html": [
       "<div>\n",
       "<style scoped>\n",
       "    .dataframe tbody tr th:only-of-type {\n",
       "        vertical-align: middle;\n",
       "    }\n",
       "\n",
       "    .dataframe tbody tr th {\n",
       "        vertical-align: top;\n",
       "    }\n",
       "\n",
       "    .dataframe thead th {\n",
       "        text-align: right;\n",
       "    }\n",
       "</style>\n",
       "<table border=\"1\" class=\"dataframe\">\n",
       "  <thead>\n",
       "    <tr style=\"text-align: right;\">\n",
       "      <th></th>\n",
       "      <th>Time</th>\n",
       "      <th>V1</th>\n",
       "      <th>V2</th>\n",
       "      <th>V3</th>\n",
       "      <th>V4</th>\n",
       "      <th>V5</th>\n",
       "      <th>V6</th>\n",
       "      <th>V7</th>\n",
       "      <th>V8</th>\n",
       "      <th>V9</th>\n",
       "      <th>...</th>\n",
       "      <th>V21</th>\n",
       "      <th>V22</th>\n",
       "      <th>V23</th>\n",
       "      <th>V24</th>\n",
       "      <th>V25</th>\n",
       "      <th>V26</th>\n",
       "      <th>V27</th>\n",
       "      <th>V28</th>\n",
       "      <th>Amount</th>\n",
       "      <th>Class</th>\n",
       "    </tr>\n",
       "  </thead>\n",
       "  <tbody>\n",
       "    <tr>\n",
       "      <th>0</th>\n",
       "      <td>0.0</td>\n",
       "      <td>-1.359807</td>\n",
       "      <td>-0.072781</td>\n",
       "      <td>2.536347</td>\n",
       "      <td>1.378155</td>\n",
       "      <td>-0.338321</td>\n",
       "      <td>0.462388</td>\n",
       "      <td>0.239599</td>\n",
       "      <td>0.098698</td>\n",
       "      <td>0.363787</td>\n",
       "      <td>...</td>\n",
       "      <td>-0.018307</td>\n",
       "      <td>0.277838</td>\n",
       "      <td>-0.110474</td>\n",
       "      <td>0.066928</td>\n",
       "      <td>0.128539</td>\n",
       "      <td>-0.189115</td>\n",
       "      <td>0.133558</td>\n",
       "      <td>-0.021053</td>\n",
       "      <td>149.62</td>\n",
       "      <td>0</td>\n",
       "    </tr>\n",
       "    <tr>\n",
       "      <th>1</th>\n",
       "      <td>0.0</td>\n",
       "      <td>1.191857</td>\n",
       "      <td>0.266151</td>\n",
       "      <td>0.166480</td>\n",
       "      <td>0.448154</td>\n",
       "      <td>0.060018</td>\n",
       "      <td>-0.082361</td>\n",
       "      <td>-0.078803</td>\n",
       "      <td>0.085102</td>\n",
       "      <td>-0.255425</td>\n",
       "      <td>...</td>\n",
       "      <td>-0.225775</td>\n",
       "      <td>-0.638672</td>\n",
       "      <td>0.101288</td>\n",
       "      <td>-0.339846</td>\n",
       "      <td>0.167170</td>\n",
       "      <td>0.125895</td>\n",
       "      <td>-0.008983</td>\n",
       "      <td>0.014724</td>\n",
       "      <td>2.69</td>\n",
       "      <td>0</td>\n",
       "    </tr>\n",
       "    <tr>\n",
       "      <th>2</th>\n",
       "      <td>1.0</td>\n",
       "      <td>-1.358354</td>\n",
       "      <td>-1.340163</td>\n",
       "      <td>1.773209</td>\n",
       "      <td>0.379780</td>\n",
       "      <td>-0.503198</td>\n",
       "      <td>1.800499</td>\n",
       "      <td>0.791461</td>\n",
       "      <td>0.247676</td>\n",
       "      <td>-1.514654</td>\n",
       "      <td>...</td>\n",
       "      <td>0.247998</td>\n",
       "      <td>0.771679</td>\n",
       "      <td>0.909412</td>\n",
       "      <td>-0.689281</td>\n",
       "      <td>-0.327642</td>\n",
       "      <td>-0.139097</td>\n",
       "      <td>-0.055353</td>\n",
       "      <td>-0.059752</td>\n",
       "      <td>378.66</td>\n",
       "      <td>0</td>\n",
       "    </tr>\n",
       "    <tr>\n",
       "      <th>3</th>\n",
       "      <td>1.0</td>\n",
       "      <td>-0.966272</td>\n",
       "      <td>-0.185226</td>\n",
       "      <td>1.792993</td>\n",
       "      <td>-0.863291</td>\n",
       "      <td>-0.010309</td>\n",
       "      <td>1.247203</td>\n",
       "      <td>0.237609</td>\n",
       "      <td>0.377436</td>\n",
       "      <td>-1.387024</td>\n",
       "      <td>...</td>\n",
       "      <td>-0.108300</td>\n",
       "      <td>0.005274</td>\n",
       "      <td>-0.190321</td>\n",
       "      <td>-1.175575</td>\n",
       "      <td>0.647376</td>\n",
       "      <td>-0.221929</td>\n",
       "      <td>0.062723</td>\n",
       "      <td>0.061458</td>\n",
       "      <td>123.50</td>\n",
       "      <td>0</td>\n",
       "    </tr>\n",
       "    <tr>\n",
       "      <th>4</th>\n",
       "      <td>2.0</td>\n",
       "      <td>-1.158233</td>\n",
       "      <td>0.877737</td>\n",
       "      <td>1.548718</td>\n",
       "      <td>0.403034</td>\n",
       "      <td>-0.407193</td>\n",
       "      <td>0.095921</td>\n",
       "      <td>0.592941</td>\n",
       "      <td>-0.270533</td>\n",
       "      <td>0.817739</td>\n",
       "      <td>...</td>\n",
       "      <td>-0.009431</td>\n",
       "      <td>0.798278</td>\n",
       "      <td>-0.137458</td>\n",
       "      <td>0.141267</td>\n",
       "      <td>-0.206010</td>\n",
       "      <td>0.502292</td>\n",
       "      <td>0.219422</td>\n",
       "      <td>0.215153</td>\n",
       "      <td>69.99</td>\n",
       "      <td>0</td>\n",
       "    </tr>\n",
       "  </tbody>\n",
       "</table>\n",
       "<p>5 rows × 31 columns</p>\n",
       "</div>"
      ],
      "text/plain": [
       "   Time        V1        V2        V3        V4        V5        V6        V7  \\\n",
       "0   0.0 -1.359807 -0.072781  2.536347  1.378155 -0.338321  0.462388  0.239599   \n",
       "1   0.0  1.191857  0.266151  0.166480  0.448154  0.060018 -0.082361 -0.078803   \n",
       "2   1.0 -1.358354 -1.340163  1.773209  0.379780 -0.503198  1.800499  0.791461   \n",
       "3   1.0 -0.966272 -0.185226  1.792993 -0.863291 -0.010309  1.247203  0.237609   \n",
       "4   2.0 -1.158233  0.877737  1.548718  0.403034 -0.407193  0.095921  0.592941   \n",
       "\n",
       "         V8        V9  ...       V21       V22       V23       V24       V25  \\\n",
       "0  0.098698  0.363787  ... -0.018307  0.277838 -0.110474  0.066928  0.128539   \n",
       "1  0.085102 -0.255425  ... -0.225775 -0.638672  0.101288 -0.339846  0.167170   \n",
       "2  0.247676 -1.514654  ...  0.247998  0.771679  0.909412 -0.689281 -0.327642   \n",
       "3  0.377436 -1.387024  ... -0.108300  0.005274 -0.190321 -1.175575  0.647376   \n",
       "4 -0.270533  0.817739  ... -0.009431  0.798278 -0.137458  0.141267 -0.206010   \n",
       "\n",
       "        V26       V27       V28  Amount  Class  \n",
       "0 -0.189115  0.133558 -0.021053  149.62      0  \n",
       "1  0.125895 -0.008983  0.014724    2.69      0  \n",
       "2 -0.139097 -0.055353 -0.059752  378.66      0  \n",
       "3 -0.221929  0.062723  0.061458  123.50      0  \n",
       "4  0.502292  0.219422  0.215153   69.99      0  \n",
       "\n",
       "[5 rows x 31 columns]"
      ]
     },
     "execution_count": 2,
     "metadata": {},
     "output_type": "execute_result"
    }
   ],
   "source": [
    "data =pd.read_csv(\"creditcard.csv\")\n",
    "data.head()"
   ]
  },
  {
   "cell_type": "code",
   "execution_count": 3,
   "metadata": {},
   "outputs": [
    {
     "name": "stdout",
     "output_type": "stream",
     "text": [
      "(284807, 31)\n",
      "8829017\n",
      "Time      284807\n",
      "V1        284807\n",
      "V2        284807\n",
      "V3        284807\n",
      "V4        284807\n",
      "V5        284807\n",
      "V6        284807\n",
      "V7        284807\n",
      "V8        284807\n",
      "V9        284807\n",
      "V10       284807\n",
      "V11       284807\n",
      "V12       284807\n",
      "V13       284807\n",
      "V14       284807\n",
      "V15       284807\n",
      "V16       284807\n",
      "V17       284807\n",
      "V18       284807\n",
      "V19       284807\n",
      "V20       284807\n",
      "V21       284807\n",
      "V22       284807\n",
      "V23       284807\n",
      "V24       284807\n",
      "V25       284807\n",
      "V26       284807\n",
      "V27       284807\n",
      "V28       284807\n",
      "Amount    284807\n",
      "Class     284807\n",
      "dtype: int64\n",
      "0    284315\n",
      "1       492\n",
      "Name: Class, dtype: int64\n"
     ]
    }
   ],
   "source": [
    "print (data.shape)\n",
    "print (data.size)\n",
    "print (data.count())\n",
    "print (data[\"Class\"].value_counts())"
   ]
  },
  {
   "cell_type": "code",
   "execution_count": 4,
   "metadata": {},
   "outputs": [
    {
     "data": {
      "text/plain": [
       "<matplotlib.axes._subplots.AxesSubplot at 0x1cf5a800fc8>"
      ]
     },
     "execution_count": 4,
     "metadata": {},
     "output_type": "execute_result"
    },
    {
     "data": {
      "image/png": "[encoded data removed]",
      "text/plain": [
       "<Figure size 432x288 with 1 Axes>"
      ]
     },
     "metadata": {
      "needs_background": "light"
     },
     "output_type": "display_data"
    }
   ],
   "source": [
    "plt.title(' number of instances in each class')\n",
    "sns.countplot(x='Class',data=data)"
   ]
  },
  {
   "cell_type": "code",
   "execution_count": 5,
   "metadata": {},
   "outputs": [
    {
     "data": {
      "text/plain": [
       "Text(0.5, 1, 'Amount-Time Plot')"
      ]
     },
     "execution_count": 5,
     "metadata": {},
     "output_type": "execute_result"
    },
    {
     "data": {
      "image/png": "[encoded data removed]",
      "text/plain": [
       "<Figure size 1050.38x504 with 1 Axes>"
      ]
     },
     "metadata": {
      "needs_background": "light"
     },
     "output_type": "display_data"
    }
   ],
   "source": [
    "sns.lmplot(x='Time',y='Amount',data=data,fit_reg=False,hue='Class',height=7,aspect=2)\n",
    "plt.title('Amount-Time Plot')"
   ]
  },
  {
   "cell_type": "code",
   "execution_count": 6,
   "metadata": {},
   "outputs": [
    {
     "data": {
      "text/plain": [
       "<matplotlib.axes._subplots.AxesSubplot at 0x1cf5d16e5c8>"
      ]
     },
     "execution_count": 6,
     "metadata": {},
     "output_type": "execute_result"
    },
    {
     "data": {
      "image/png": "[encoded data removed]",
      "text/plain": [
       "<Figure size 720x720 with 2 Axes>"
      ]
     },
     "metadata": {
      "needs_background": "light"
     },
     "output_type": "display_data"
    }
   ],
   "source": [
    "plt.figure(figsize = (10,10))\n",
    "plt.title('CC Correlation Plot')\n",
    "sns.heatmap(data.corr(),linewidths=0.02)"
   ]
  },
  {
   "cell_type": "code",
   "execution_count": 16,
   "metadata": {},
   "outputs": [],
   "source": [
    "# coulmns = data.columns.values\n",
    "# i = 0\n",
    "# negative_class = data.loc[data['Class'] == 0]\n",
    "# fraud_class = data.loc[data['Class'] == 1]\n",
    "\n",
    "# sns.set_style('whitegrid')\n",
    "# plt.figure()\n",
    "# fig, ax = plt.subplots(8,4,figsize=(16,28))\n",
    "\n",
    "# for feature in coulmns:\n",
    "#     i += 1\n",
    "#     plt.subplot(8,4,i)\n",
    "#     sns.kdeplot(negative_class[feature], bw=0.5,label=\"Class = 0\")\n",
    "#     sns.kdeplot(fraud_class[feature], bw=0.5,label=\"Class = 1\")\n",
    "#     plt.xlabel(feature, fontsize=9)\n",
    "#     locs, labels = plt.xticks()\n",
    "#     plt.tick_params(axis='both', which='major', labelsize=9)\n",
    "# plt.show()"
   ]
  },
  {
   "cell_type": "code",
   "execution_count": 8,
   "metadata": {},
   "outputs": [],
   "source": [
    "# Feature Scaling\n",
    "from sklearn.preprocessing import StandardScaler\n",
    "sc = StandardScaler()\n",
    "data[\"S_Amount\"]=  sc.fit_transform(data.iloc[:,29].values.reshape(-1,1))"
   ]
  },
  {
   "cell_type": "code",
   "execution_count": 9,
   "metadata": {},
   "outputs": [],
   "source": [
    "# class separation\n",
    "not_fraud_data=data[data[\"Class\"]==0][0:492]\n",
    "not_fraud_remaining_data=data[data[\"Class\"]==0][492:]\n",
    "fraud_data=data[data[\"Class\"]==1][0:492]\n",
    "\n",
    "\n",
    "balanced_data = pd.concat([not_fraud_data,fraud_data])\n"
   ]
  },
  {
   "cell_type": "code",
   "execution_count": 10,
   "metadata": {},
   "outputs": [],
   "source": [
    "# Frames=[NF,F]\n",
    "# BCC=pd.concat(Frames)\n",
    "# BCC\n",
    "\n",
    "# balanced_data_labels = \n",
    "# print(balanced_data.shape)"
   ]
  },
  {
   "cell_type": "code",
   "execution_count": 11,
   "metadata": {},
   "outputs": [
    {
     "data": {
      "text/plain": [
       "<matplotlib.axes._subplots.AxesSubplot at 0x1cf60baaac8>"
      ]
     },
     "execution_count": 11,
     "metadata": {},
     "output_type": "execute_result"
    },
    {
     "data": {
      "image/png": "[encoded data removed]",
      "text/plain": [
       "<Figure size 432x288 with 1 Axes>"
      ]
     },
     "metadata": {},
     "output_type": "display_data"
    }
   ],
   "source": [
    "plt.title('BCC \"Class\" Plot')\n",
    "sns.countplot(x='Class',data=balanced_data)"
   ]
  },
  {
   "cell_type": "code",
   "execution_count": 12,
   "metadata": {},
   "outputs": [
    {
     "data": {
      "text/plain": [
       "Text(0.5, 1, 'BCC Amount-Time Plot')"
      ]
     },
     "execution_count": 12,
     "metadata": {},
     "output_type": "execute_result"
    },
    {
     "data": {
      "image/png": "[encoded data removed]",
      "text/plain": [
       "<Figure size 1049.62x504 with 1 Axes>"
      ]
     },
     "metadata": {},
     "output_type": "display_data"
    }
   ],
   "source": [
    "sns.lmplot(x='Time',y='Amount',data=balanced_data,fit_reg=False,hue='Class',height=7,aspect=2)\n",
    "plt.title('BCC Amount-Time Plot')"
   ]
  },
  {
   "cell_type": "code",
   "execution_count": 13,
   "metadata": {},
   "outputs": [
    {
     "data": {
      "text/plain": [
       "<matplotlib.axes._subplots.AxesSubplot at 0x1cf60c54788>"
      ]
     },
     "execution_count": 13,
     "metadata": {},
     "output_type": "execute_result"
    },
    {
     "data": {
      "image/png": "[encoded data removed]",
      "text/plain": [
       "<Figure size 720x720 with 2 Axes>"
      ]
     },
     "metadata": {},
     "output_type": "display_data"
    }
   ],
   "source": [
    "plt.figure(figsize = (10,10))\n",
    "plt.title('BCC Correlation Plot')\n",
    "sns.heatmap(data.corr(),linewidths=0.02)"
   ]
  },
  {
   "cell_type": "code",
   "execution_count": 14,
   "metadata": {
    "scrolled": false
   },
   "outputs": [],
   "source": [
    "# CB= balanced.columns.values\n",
    "# i = 0\n",
    "# C0 = BCC.loc[BCC['Class'] == 0]\n",
    "# C1 = BCC.loc[BCC['Class'] == 1]\n",
    "\n",
    "# sns.set_style('whitegrid')\n",
    "# plt.figure()\n",
    "# fig, ax = plt.subplots(8,4,figsize=(20,30))\n",
    "\n",
    "# for feature in C:\n",
    "#     i += 1\n",
    "#     plt.subplot(8,4,i)\n",
    "#     sns.kdeplot(C0[feature], bw=0.5,label=\"Class = 0\")\n",
    "#     sns.kdeplot(C1[feature], bw=0.5,label=\"Class = 1\")\n",
    "#     plt.xlabel(feature, fontsize=9)\n",
    "#     locs, labels = plt.xticks()\n",
    "#     plt.tick_params(axis='both', which='major', labelsize=9)\n",
    "# plt.show()"
   ]
  },
  {
   "cell_type": "code",
   "execution_count": 15,
   "metadata": {},
   "outputs": [
    {
     "data": {
      "text/plain": [
       "Index(['Time', 'V1', 'V2', 'V3', 'V4', 'V5', 'V6', 'V7', 'V8', 'V9', 'V10',\n",
       "       'V11', 'V12', 'V13', 'V14', 'V15', 'V16', 'V17', 'V18', 'V19', 'V20',\n",
       "       'V21', 'V22', 'V23', 'V24', 'V25', 'V26', 'V27', 'V28', 'Amount',\n",
       "       'Class', 'S_Amount'],\n",
       "      dtype='object')"
      ]
     },
     "execution_count": 15,
     "metadata": {},
     "output_type": "execute_result"
    }
   ],
   "source": [
    "balanced_data.columns"
   ]
  },
  {
   "cell_type": "code",
   "execution_count": 34,
   "metadata": {},
   "outputs": [
    {
     "name": "stdout",
     "output_type": "stream",
     "text": [
      "(283823, 29)\n",
      "balanced data: (984, 29) <class 'numpy.ndarray'>\n",
      "balanced labels: (984,) <class 'numpy.ndarray'>\n",
      "492\n",
      "492\n"
     ]
    }
   ],
   "source": [
    "# F_1_BCC= BCC[['V1', 'V2', 'V3', 'V4', 'V5', 'V6', 'V7', 'V8', 'V9', 'V10',\n",
    "#        'V11', 'V12', 'V13', 'V14', 'V15', 'V16', 'V17', 'V18', 'V19', 'V20',\n",
    "#        'V21', 'V22', 'V23', 'V24', 'V25', 'V26', 'V27', 'V28', 'S_Amount']]\n",
    "# x=np.asarray(F_1_BCC)\n",
    "# y=np.asarray(BCC['Class']) \n",
    "\n",
    "fraud_label = [1]*len(fraud_data)\n",
    "not_fraud_label = [0]*len(not_fraud_data)\n",
    "\n",
    "balanced_data_dropped = balanced_data.drop(columns=['Time','Class','Amount']).to_numpy()\n",
    "not_fraud_remaining_data_dropped = not_fraud_remaining_data.drop(columns=['Time','Class','Amount']).to_numpy()\n",
    "\n",
    "balanced_labels = np.array(not_fraud_label+fraud_label)\n",
    "print(not_fraud_remaining_data_dropped.shape)\n",
    "print(\"balanced data:\",balanced_data_dropped.shape, type(balanced_data_dropped))\n",
    "print(\"balanced labels:\",balanced_labels.shape, type( balanced_labels))\n",
    "\n",
    "print(len(fraud_label))\n",
    "print(len(not_fraud_label))\n",
    "\n",
    "# balanced data"
   ]
  },
  {
   "cell_type": "code",
   "execution_count": 35,
   "metadata": {},
   "outputs": [
    {
     "name": "stdout",
     "output_type": "stream",
     "text": [
      "(738, 29)\n",
      "(738,)\n",
      "(246, 29)\n",
      "(246,)\n"
     ]
    }
   ],
   "source": [
    "from sklearn.model_selection import train_test_split\n",
    "x_train, x_test, y_train, y_test = train_test_split(balanced_data_dropped, balanced_labels, test_size = 0.25, random_state = 0)\n",
    "\n",
    "print(x_train.shape)\n",
    "print(y_train.shape)\n",
    "\n",
    "print(x_test.shape)\n",
    "print(y_test.shape)"
   ]
  },
  {
   "cell_type": "code",
   "execution_count": 48,
   "metadata": {},
   "outputs": [
    {
     "data": {
      "text/plain": [
       "SVC(C=1.0, break_ties=False, cache_size=200, class_weight=None, coef0=0.0,\n",
       "    decision_function_shape='ovr', degree=3, gamma='scale', kernel='rbf',\n",
       "    max_iter=-1, probability=False, random_state=None, shrinking=True,\n",
       "    tol=0.001, verbose=False)"
      ]
     },
     "execution_count": 48,
     "metadata": {},
     "output_type": "execute_result"
    }
   ],
   "source": [
    "from sklearn.svm import SVC\n",
    "classifier = SVC(kernel='rbf')\n",
    "classifier.fit(x_train, y_train)\n"
   ]
  },
  {
   "cell_type": "code",
   "execution_count": 66,
   "metadata": {},
   "outputs": [
    {
     "name": "stdout",
     "output_type": "stream",
     "text": [
      "              precision    recall  f1-score   support\n",
      "\n",
      "           0       0.89      0.97      0.93       119\n",
      "           1       0.97      0.89      0.93       127\n",
      "\n",
      "    accuracy                           0.93       246\n",
      "   macro avg       0.93      0.93      0.93       246\n",
      "weighted avg       0.93      0.93      0.93       246\n",
      "\n"
     ]
    },
    {
     "data": {
      "text/plain": [
       "0.9262295081967213"
      ]
     },
     "execution_count": 66,
     "metadata": {},
     "output_type": "execute_result"
    }
   ],
   "source": [
    "y_pred = classifier.predict(x_test)\n",
    "from sklearn.metrics import classification_report\n",
    "print(classification_report(y_test,y_pred))\n",
    "from sklearn.metrics import f1_score\n",
    "f1_score(y_test,y_pred)"
   ]
  },
  {
   "cell_type": "code",
   "execution_count": 59,
   "metadata": {},
   "outputs": [
    {
     "name": "stdout",
     "output_type": "stream",
     "text": [
      "(284069, 29)\n",
      "284069\n",
      "127\n",
      "              precision    recall  f1-score   support\n",
      "\n",
      "           0       1.00      0.96      0.98    283942\n",
      "           1       0.01      0.89      0.02       127\n",
      "\n",
      "    accuracy                           0.96    284069\n",
      "   macro avg       0.51      0.93      0.50    284069\n",
      "weighted avg       1.00      0.96      0.98    284069\n",
      "\n"
     ]
    }
   ],
   "source": [
    "# not fraud labels\n",
    "not_fraud_remaining_data_dropped_labels = [0]*len(not_fraud_remaining_data_dropped)\n",
    "test_data = np.append(not_fraud_remaining_data_dropped, x_test,axis = 0)\n",
    "test_labels = np.append(not_fraud_remaining_data_dropped_labels , y_test, axis = 0)\n",
    "print(test_data.shape)\n",
    "print(len(test_labels))\n",
    "print(np.sum(test_labels))\n",
    "\n",
    "test_pred = classifier.predict(test_data)\n",
    "print(classification_report(test_labels,test_pred))\n",
    "\n",
    "# print(classification_report(not_fraud_remaining_data_dropped_labels,classifier.predict(not_fraud_remaining_data_dropped)))\n",
    "# # print(len(not_fraud_remaining_data_dropped_labels))\n",
    "\n",
    "# from sklearn.metrics import confusion_matrix,f1_score\n",
    "# cm = confusion_matrix(y_test, y_pred)\n",
    "# cm\n"
   ]
  },
  {
   "cell_type": "code",
   "execution_count": 64,
   "metadata": {},
   "outputs": [
    {
     "data": {
      "text/plain": [
       "0.020633616360814386"
      ]
     },
     "execution_count": 64,
     "metadata": {},
     "output_type": "execute_result"
    }
   ],
   "source": [
    "from sklearn.metrics import f1_score\n",
    "f1_score(test_labels,test_pred)"
   ]
  },
  {
   "cell_type": "code",
   "execution_count": 338,
   "metadata": {},
   "outputs": [
    {
     "data": {
      "text/html": [
       "<div>\n",
       "<style scoped>\n",
       "    .dataframe tbody tr th:only-of-type {\n",
       "        vertical-align: middle;\n",
       "    }\n",
       "\n",
       "    .dataframe tbody tr th {\n",
       "        vertical-align: top;\n",
       "    }\n",
       "\n",
       "    .dataframe thead th {\n",
       "        text-align: right;\n",
       "    }\n",
       "</style>\n",
       "<table border=\"1\" class=\"dataframe\">\n",
       "  <thead>\n",
       "    <tr style=\"text-align: right;\">\n",
       "      <th></th>\n",
       "      <th>0</th>\n",
       "      <th>1</th>\n",
       "      <th>2</th>\n",
       "      <th>3</th>\n",
       "      <th>4</th>\n",
       "      <th>5</th>\n",
       "      <th>6</th>\n",
       "      <th>7</th>\n",
       "      <th>8</th>\n",
       "      <th>9</th>\n",
       "      <th>...</th>\n",
       "      <th>19</th>\n",
       "      <th>20</th>\n",
       "      <th>21</th>\n",
       "      <th>22</th>\n",
       "      <th>23</th>\n",
       "      <th>24</th>\n",
       "      <th>25</th>\n",
       "      <th>26</th>\n",
       "      <th>27</th>\n",
       "      <th>28</th>\n",
       "    </tr>\n",
       "  </thead>\n",
       "  <tbody>\n",
       "    <tr>\n",
       "      <th>0</th>\n",
       "      <td>1.315601</td>\n",
       "      <td>0.413148</td>\n",
       "      <td>-0.018953</td>\n",
       "      <td>0.487834</td>\n",
       "      <td>0.132331</td>\n",
       "      <td>-0.574307</td>\n",
       "      <td>0.146563</td>\n",
       "      <td>-0.215923</td>\n",
       "      <td>-0.080276</td>\n",
       "      <td>-0.314457</td>\n",
       "      <td>...</td>\n",
       "      <td>0.018365</td>\n",
       "      <td>-0.329567</td>\n",
       "      <td>-0.891188</td>\n",
       "      <td>0.011352</td>\n",
       "      <td>-0.477579</td>\n",
       "      <td>0.365667</td>\n",
       "      <td>0.143254</td>\n",
       "      <td>-0.016757</td>\n",
       "      <td>0.024640</td>\n",
       "      <td>-0.345313</td>\n",
       "    </tr>\n",
       "    <tr>\n",
       "      <th>1</th>\n",
       "      <td>-4.696795</td>\n",
       "      <td>2.693867</td>\n",
       "      <td>-4.475133</td>\n",
       "      <td>5.467685</td>\n",
       "      <td>-1.556758</td>\n",
       "      <td>-1.549420</td>\n",
       "      <td>-4.104215</td>\n",
       "      <td>0.553934</td>\n",
       "      <td>-1.498468</td>\n",
       "      <td>-4.594952</td>\n",
       "      <td>...</td>\n",
       "      <td>-0.158971</td>\n",
       "      <td>0.573898</td>\n",
       "      <td>-0.080163</td>\n",
       "      <td>0.318408</td>\n",
       "      <td>-0.245862</td>\n",
       "      <td>0.338238</td>\n",
       "      <td>0.032271</td>\n",
       "      <td>-1.508458</td>\n",
       "      <td>0.608075</td>\n",
       "      <td>-0.353229</td>\n",
       "    </tr>\n",
       "    <tr>\n",
       "      <th>2</th>\n",
       "      <td>1.322707</td>\n",
       "      <td>-0.174041</td>\n",
       "      <td>0.434555</td>\n",
       "      <td>0.576038</td>\n",
       "      <td>-0.836758</td>\n",
       "      <td>-0.831083</td>\n",
       "      <td>-0.264905</td>\n",
       "      <td>-0.220982</td>\n",
       "      <td>-1.071425</td>\n",
       "      <td>0.868559</td>\n",
       "      <td>...</td>\n",
       "      <td>-0.522951</td>\n",
       "      <td>-0.284376</td>\n",
       "      <td>-0.323357</td>\n",
       "      <td>-0.037710</td>\n",
       "      <td>0.347151</td>\n",
       "      <td>0.559639</td>\n",
       "      <td>-0.280158</td>\n",
       "      <td>0.042335</td>\n",
       "      <td>0.028822</td>\n",
       "      <td>-0.289260</td>\n",
       "    </tr>\n",
       "    <tr>\n",
       "      <th>3</th>\n",
       "      <td>-19.139733</td>\n",
       "      <td>9.286847</td>\n",
       "      <td>-20.134992</td>\n",
       "      <td>7.818673</td>\n",
       "      <td>-15.652208</td>\n",
       "      <td>-1.668348</td>\n",
       "      <td>-21.340478</td>\n",
       "      <td>0.641900</td>\n",
       "      <td>-8.550110</td>\n",
       "      <td>-16.649628</td>\n",
       "      <td>...</td>\n",
       "      <td>0.427203</td>\n",
       "      <td>-2.182692</td>\n",
       "      <td>0.520543</td>\n",
       "      <td>-0.760556</td>\n",
       "      <td>0.662767</td>\n",
       "      <td>-0.948454</td>\n",
       "      <td>0.121796</td>\n",
       "      <td>-3.381843</td>\n",
       "      <td>-1.256524</td>\n",
       "      <td>0.206103</td>\n",
       "    </tr>\n",
       "    <tr>\n",
       "      <th>4</th>\n",
       "      <td>-2.423535</td>\n",
       "      <td>1.659093</td>\n",
       "      <td>-3.071421</td>\n",
       "      <td>2.588033</td>\n",
       "      <td>1.135791</td>\n",
       "      <td>-1.892388</td>\n",
       "      <td>-2.588418</td>\n",
       "      <td>-2.226592</td>\n",
       "      <td>-1.670173</td>\n",
       "      <td>-3.508925</td>\n",
       "      <td>...</td>\n",
       "      <td>0.353898</td>\n",
       "      <td>-0.934127</td>\n",
       "      <td>0.922038</td>\n",
       "      <td>-0.180255</td>\n",
       "      <td>-0.281719</td>\n",
       "      <td>0.299285</td>\n",
       "      <td>-0.263801</td>\n",
       "      <td>0.150156</td>\n",
       "      <td>0.292112</td>\n",
       "      <td>-0.316087</td>\n",
       "    </tr>\n",
       "    <tr>\n",
       "      <th>...</th>\n",
       "      <td>...</td>\n",
       "      <td>...</td>\n",
       "      <td>...</td>\n",
       "      <td>...</td>\n",
       "      <td>...</td>\n",
       "      <td>...</td>\n",
       "      <td>...</td>\n",
       "      <td>...</td>\n",
       "      <td>...</td>\n",
       "      <td>...</td>\n",
       "      <td>...</td>\n",
       "      <td>...</td>\n",
       "      <td>...</td>\n",
       "      <td>...</td>\n",
       "      <td>...</td>\n",
       "      <td>...</td>\n",
       "      <td>...</td>\n",
       "      <td>...</td>\n",
       "      <td>...</td>\n",
       "      <td>...</td>\n",
       "      <td>...</td>\n",
       "    </tr>\n",
       "    <tr>\n",
       "      <th>241</th>\n",
       "      <td>-10.363049</td>\n",
       "      <td>4.543672</td>\n",
       "      <td>-9.795898</td>\n",
       "      <td>5.508003</td>\n",
       "      <td>-6.037156</td>\n",
       "      <td>-0.133493</td>\n",
       "      <td>-11.724346</td>\n",
       "      <td>-3.198346</td>\n",
       "      <td>-4.767842</td>\n",
       "      <td>-9.332128</td>\n",
       "      <td>...</td>\n",
       "      <td>0.924396</td>\n",
       "      <td>-2.457145</td>\n",
       "      <td>1.687257</td>\n",
       "      <td>0.977178</td>\n",
       "      <td>-0.543369</td>\n",
       "      <td>-0.289125</td>\n",
       "      <td>-0.107586</td>\n",
       "      <td>0.330642</td>\n",
       "      <td>0.163577</td>\n",
       "      <td>-0.349231</td>\n",
       "    </tr>\n",
       "    <tr>\n",
       "      <th>242</th>\n",
       "      <td>-2.986466</td>\n",
       "      <td>-0.000891</td>\n",
       "      <td>0.605887</td>\n",
       "      <td>0.338338</td>\n",
       "      <td>0.685448</td>\n",
       "      <td>-1.581954</td>\n",
       "      <td>0.504206</td>\n",
       "      <td>-0.233403</td>\n",
       "      <td>0.636768</td>\n",
       "      <td>1.010291</td>\n",
       "      <td>...</td>\n",
       "      <td>-0.764274</td>\n",
       "      <td>-0.875146</td>\n",
       "      <td>-0.509849</td>\n",
       "      <td>1.313918</td>\n",
       "      <td>0.355065</td>\n",
       "      <td>0.448552</td>\n",
       "      <td>0.193490</td>\n",
       "      <td>1.214588</td>\n",
       "      <td>-0.013923</td>\n",
       "      <td>-0.346073</td>\n",
       "    </tr>\n",
       "    <tr>\n",
       "      <th>243</th>\n",
       "      <td>-23.914101</td>\n",
       "      <td>13.765942</td>\n",
       "      <td>-25.733734</td>\n",
       "      <td>6.290918</td>\n",
       "      <td>-17.784824</td>\n",
       "      <td>-4.572498</td>\n",
       "      <td>-17.390764</td>\n",
       "      <td>15.794136</td>\n",
       "      <td>-3.819832</td>\n",
       "      <td>-8.442262</td>\n",
       "      <td>...</td>\n",
       "      <td>1.640037</td>\n",
       "      <td>1.773399</td>\n",
       "      <td>-1.748426</td>\n",
       "      <td>-1.093104</td>\n",
       "      <td>0.147807</td>\n",
       "      <td>1.663792</td>\n",
       "      <td>-0.221024</td>\n",
       "      <td>1.458076</td>\n",
       "      <td>0.430315</td>\n",
       "      <td>0.046539</td>\n",
       "    </tr>\n",
       "    <tr>\n",
       "      <th>244</th>\n",
       "      <td>-6.682832</td>\n",
       "      <td>-2.714268</td>\n",
       "      <td>-5.774530</td>\n",
       "      <td>1.449792</td>\n",
       "      <td>-0.661836</td>\n",
       "      <td>-1.148650</td>\n",
       "      <td>0.849686</td>\n",
       "      <td>0.433427</td>\n",
       "      <td>-1.315646</td>\n",
       "      <td>-2.796332</td>\n",
       "      <td>...</td>\n",
       "      <td>-1.928527</td>\n",
       "      <td>0.220526</td>\n",
       "      <td>1.187013</td>\n",
       "      <td>0.335821</td>\n",
       "      <td>0.215683</td>\n",
       "      <td>0.803110</td>\n",
       "      <td>0.044033</td>\n",
       "      <td>-0.054988</td>\n",
       "      <td>0.082337</td>\n",
       "      <td>0.595357</td>\n",
       "    </tr>\n",
       "    <tr>\n",
       "      <th>245</th>\n",
       "      <td>-3.593476</td>\n",
       "      <td>0.781442</td>\n",
       "      <td>-1.822448</td>\n",
       "      <td>0.605761</td>\n",
       "      <td>-1.194656</td>\n",
       "      <td>-0.517195</td>\n",
       "      <td>-1.722523</td>\n",
       "      <td>0.128890</td>\n",
       "      <td>0.014963</td>\n",
       "      <td>-2.856117</td>\n",
       "      <td>...</td>\n",
       "      <td>-0.478219</td>\n",
       "      <td>0.351792</td>\n",
       "      <td>0.391249</td>\n",
       "      <td>-0.252875</td>\n",
       "      <td>-0.498042</td>\n",
       "      <td>0.010172</td>\n",
       "      <td>0.909929</td>\n",
       "      <td>-1.478767</td>\n",
       "      <td>0.722673</td>\n",
       "      <td>0.052576</td>\n",
       "    </tr>\n",
       "  </tbody>\n",
       "</table>\n",
       "<p>246 rows × 29 columns</p>\n",
       "</div>"
      ],
      "text/plain": [
       "            0          1          2         3          4         5   \\\n",
       "0     1.315601   0.413148  -0.018953  0.487834   0.132331 -0.574307   \n",
       "1    -4.696795   2.693867  -4.475133  5.467685  -1.556758 -1.549420   \n",
       "2     1.322707  -0.174041   0.434555  0.576038  -0.836758 -0.831083   \n",
       "3   -19.139733   9.286847 -20.134992  7.818673 -15.652208 -1.668348   \n",
       "4    -2.423535   1.659093  -3.071421  2.588033   1.135791 -1.892388   \n",
       "..         ...        ...        ...       ...        ...       ...   \n",
       "241 -10.363049   4.543672  -9.795898  5.508003  -6.037156 -0.133493   \n",
       "242  -2.986466  -0.000891   0.605887  0.338338   0.685448 -1.581954   \n",
       "243 -23.914101  13.765942 -25.733734  6.290918 -17.784824 -4.572498   \n",
       "244  -6.682832  -2.714268  -5.774530  1.449792  -0.661836 -1.148650   \n",
       "245  -3.593476   0.781442  -1.822448  0.605761  -1.194656 -0.517195   \n",
       "\n",
       "            6          7         8          9   ...        19        20  \\\n",
       "0     0.146563  -0.215923 -0.080276  -0.314457  ...  0.018365 -0.329567   \n",
       "1    -4.104215   0.553934 -1.498468  -4.594952  ... -0.158971  0.573898   \n",
       "2    -0.264905  -0.220982 -1.071425   0.868559  ... -0.522951 -0.284376   \n",
       "3   -21.340478   0.641900 -8.550110 -16.649628  ...  0.427203 -2.182692   \n",
       "4    -2.588418  -2.226592 -1.670173  -3.508925  ...  0.353898 -0.934127   \n",
       "..         ...        ...       ...        ...  ...       ...       ...   \n",
       "241 -11.724346  -3.198346 -4.767842  -9.332128  ...  0.924396 -2.457145   \n",
       "242   0.504206  -0.233403  0.636768   1.010291  ... -0.764274 -0.875146   \n",
       "243 -17.390764  15.794136 -3.819832  -8.442262  ...  1.640037  1.773399   \n",
       "244   0.849686   0.433427 -1.315646  -2.796332  ... -1.928527  0.220526   \n",
       "245  -1.722523   0.128890  0.014963  -2.856117  ... -0.478219  0.351792   \n",
       "\n",
       "           21        22        23        24        25        26        27  \\\n",
       "0   -0.891188  0.011352 -0.477579  0.365667  0.143254 -0.016757  0.024640   \n",
       "1   -0.080163  0.318408 -0.245862  0.338238  0.032271 -1.508458  0.608075   \n",
       "2   -0.323357 -0.037710  0.347151  0.559639 -0.280158  0.042335  0.028822   \n",
       "3    0.520543 -0.760556  0.662767 -0.948454  0.121796 -3.381843 -1.256524   \n",
       "4    0.922038 -0.180255 -0.281719  0.299285 -0.263801  0.150156  0.292112   \n",
       "..        ...       ...       ...       ...       ...       ...       ...   \n",
       "241  1.687257  0.977178 -0.543369 -0.289125 -0.107586  0.330642  0.163577   \n",
       "242 -0.509849  1.313918  0.355065  0.448552  0.193490  1.214588 -0.013923   \n",
       "243 -1.748426 -1.093104  0.147807  1.663792 -0.221024  1.458076  0.430315   \n",
       "244  1.187013  0.335821  0.215683  0.803110  0.044033 -0.054988  0.082337   \n",
       "245  0.391249 -0.252875 -0.498042  0.010172  0.909929 -1.478767  0.722673   \n",
       "\n",
       "           28  \n",
       "0   -0.345313  \n",
       "1   -0.353229  \n",
       "2   -0.289260  \n",
       "3    0.206103  \n",
       "4   -0.316087  \n",
       "..        ...  \n",
       "241 -0.349231  \n",
       "242 -0.346073  \n",
       "243  0.046539  \n",
       "244  0.595357  \n",
       "245  0.052576  \n",
       "\n",
       "[246 rows x 29 columns]"
      ]
     },
     "execution_count": 338,
     "metadata": {},
     "output_type": "execute_result"
    }
   ],
   "source": [
    "df = pd.DataFrame(x_test)\n",
    "#,index=data[:,0]),\n",
    "df\n",
    "\n"
   ]
  },
  {
   "cell_type": "code",
   "execution_count": 336,
   "metadata": {},
   "outputs": [
    {
     "ename": "TypeError",
     "evalue": "'module' object is not callable",
     "output_type": "error",
     "traceback": [
      "\u001b[1;31m---------------------------------------------------------------------------\u001b[0m",
      "\u001b[1;31mTypeError\u001b[0m                                 Traceback (most recent call last)",
      "\u001b[1;32m<ipython-input-336-216c96cb4888>\u001b[0m in \u001b[0;36m<module>\u001b[1;34m\u001b[0m\n\u001b[1;32m----> 1\u001b[1;33m \u001b[0mpd\u001b[0m\u001b[1;33m(\u001b[0m\u001b[0my_test\u001b[0m\u001b[1;33m)\u001b[0m\u001b[1;33m\u001b[0m\u001b[1;33m\u001b[0m\u001b[0m\n\u001b[0m",
      "\u001b[1;31mTypeError\u001b[0m: 'module' object is not callable"
     ]
    }
   ],
   "source": [
    "pd(y_test)"
   ]
  },
  {
   "cell_type": "code",
   "execution_count": 334,
   "metadata": {},
   "outputs": [
    {
     "ename": "AttributeError",
     "evalue": "'DataFrame' object has no attribute 'appened'",
     "output_type": "error",
     "traceback": [
      "\u001b[1;31m---------------------------------------------------------------------------\u001b[0m",
      "\u001b[1;31mAttributeError\u001b[0m                            Traceback (most recent call last)",
      "\u001b[1;32m<ipython-input-334-48e881c2a29f>\u001b[0m in \u001b[0;36m<module>\u001b[1;34m\u001b[0m\n\u001b[1;32m----> 1\u001b[1;33m \u001b[0mNF_remaining\u001b[0m\u001b[1;33m.\u001b[0m\u001b[0mappened\u001b[0m\u001b[1;33m(\u001b[0m\u001b[0mx_test\u001b[0m\u001b[1;33m)\u001b[0m\u001b[1;33m\u001b[0m\u001b[1;33m\u001b[0m\u001b[0m\n\u001b[0m",
      "\u001b[1;32m~\\Anaconda3\\lib\\site-packages\\pandas\\core\\generic.py\u001b[0m in \u001b[0;36m__getattr__\u001b[1;34m(self, name)\u001b[0m\n\u001b[0;32m   5177\u001b[0m             \u001b[1;32mif\u001b[0m \u001b[0mself\u001b[0m\u001b[1;33m.\u001b[0m\u001b[0m_info_axis\u001b[0m\u001b[1;33m.\u001b[0m\u001b[0m_can_hold_identifiers_and_holds_name\u001b[0m\u001b[1;33m(\u001b[0m\u001b[0mname\u001b[0m\u001b[1;33m)\u001b[0m\u001b[1;33m:\u001b[0m\u001b[1;33m\u001b[0m\u001b[1;33m\u001b[0m\u001b[0m\n\u001b[0;32m   5178\u001b[0m                 \u001b[1;32mreturn\u001b[0m \u001b[0mself\u001b[0m\u001b[1;33m[\u001b[0m\u001b[0mname\u001b[0m\u001b[1;33m]\u001b[0m\u001b[1;33m\u001b[0m\u001b[1;33m\u001b[0m\u001b[0m\n\u001b[1;32m-> 5179\u001b[1;33m             \u001b[1;32mreturn\u001b[0m \u001b[0mobject\u001b[0m\u001b[1;33m.\u001b[0m\u001b[0m__getattribute__\u001b[0m\u001b[1;33m(\u001b[0m\u001b[0mself\u001b[0m\u001b[1;33m,\u001b[0m \u001b[0mname\u001b[0m\u001b[1;33m)\u001b[0m\u001b[1;33m\u001b[0m\u001b[1;33m\u001b[0m\u001b[0m\n\u001b[0m\u001b[0;32m   5180\u001b[0m \u001b[1;33m\u001b[0m\u001b[0m\n\u001b[0;32m   5181\u001b[0m     \u001b[1;32mdef\u001b[0m \u001b[0m__setattr__\u001b[0m\u001b[1;33m(\u001b[0m\u001b[0mself\u001b[0m\u001b[1;33m,\u001b[0m \u001b[0mname\u001b[0m\u001b[1;33m,\u001b[0m \u001b[0mvalue\u001b[0m\u001b[1;33m)\u001b[0m\u001b[1;33m:\u001b[0m\u001b[1;33m\u001b[0m\u001b[1;33m\u001b[0m\u001b[0m\n",
      "\u001b[1;31mAttributeError\u001b[0m: 'DataFrame' object has no attribute 'appened'"
     ]
    }
   ],
   "source": [
    "NF_remaining.appened(x_test)"
   ]
  },
  {
   "cell_type": "code",
   "execution_count": 250,
   "metadata": {},
   "outputs": [
    {
     "name": "stdout",
     "output_type": "stream",
     "text": [
      "              precision    recall  f1-score   support\n",
      "\n",
      "           0       0.52      1.00      0.68       119\n",
      "           1       1.00      0.13      0.24       127\n",
      "\n",
      "    accuracy                           0.55       246\n",
      "   macro avg       0.76      0.57      0.46       246\n",
      "weighted avg       0.77      0.55      0.45       246\n",
      "\n"
     ]
    }
   ],
   "source": [
    "from sklearn.svm import SVC\n",
    "classifier = SVC(kernel='poly')\n",
    "classifier.fit(X_train, y_train)\n",
    "y_pred = classifier.predict(X_test)\n",
    "from sklearn.metrics import classification_report\n",
    "print(classification_report(y_test,y_pred))"
   ]
  },
  {
   "cell_type": "code",
   "execution_count": null,
   "metadata": {},
   "outputs": [],
   "source": []
  },
  {
   "cell_type": "code",
   "execution_count": 254,
   "metadata": {},
   "outputs": [
    {
     "name": "stdout",
     "output_type": "stream",
     "text": [
      "              precision    recall  f1-score   support\n",
      "\n",
      "           0       0.72      0.95      0.82       119\n",
      "           1       0.93      0.65      0.76       127\n",
      "\n",
      "    accuracy                           0.79       246\n",
      "   macro avg       0.82      0.80      0.79       246\n",
      "weighted avg       0.83      0.79      0.79       246\n",
      "\n"
     ]
    }
   ],
   "source": [
    "from sklearn.svm import SVC\n",
    "classifier = SVC(kernel='rbf')\n",
    "classifier.fit(X_train, y_train)\n",
    "y_pred = classifier.predict(X_test)\n",
    "from sklearn.metrics import classification_report\n",
    "print(classification_report(y_test,y_pred))"
   ]
  },
  {
   "cell_type": "code",
   "execution_count": null,
   "metadata": {},
   "outputs": [],
   "source": []
  },
  {
   "cell_type": "code",
   "execution_count": null,
   "metadata": {},
   "outputs": [],
   "source": []
  },
  {
   "cell_type": "code",
   "execution_count": 255,
   "metadata": {},
   "outputs": [
    {
     "name": "stdout",
     "output_type": "stream",
     "text": [
      "              precision    recall  f1-score   support\n",
      "\n",
      "           0       1.00      1.00      1.00     71082\n",
      "           1       0.88      0.62      0.73       120\n",
      "\n",
      "    accuracy                           1.00     71202\n",
      "   macro avg       0.94      0.81      0.87     71202\n",
      "weighted avg       1.00      1.00      1.00     71202\n",
      "\n"
     ]
    }
   ],
   "source": [
    "F_1_CC= CC[['V1', 'V2', 'V3', 'V4', 'V5', 'V6', 'V7', 'V8', 'V9', 'V10',\n",
    "       'V11', 'V12', 'V13', 'V14', 'V15', 'V16', 'V17', 'V18', 'V19', 'V20',\n",
    "       'V21', 'V22', 'V23', 'V24', 'V25', 'V26', 'V27', 'V28', 'S_Amount']]\n",
    "m=np.asarray(F_1_CC)\n",
    "n=np.asarray(CC['Class']) \n",
    "from sklearn.model_selection import train_test_split\n",
    "m_train, m_test, n_train, n_test = train_test_split(m, n, test_size = 0.25, random_state = 0)\n",
    "n_pred = classifier.predict(m_test)\n",
    "from sklearn.metrics import classification_report\n",
    "print(classification_report(n_test,n_pred))\n"
   ]
  },
  {
   "cell_type": "code",
   "execution_count": null,
   "metadata": {},
   "outputs": [],
   "source": []
  }
 ],
 "metadata": {
  "kernelspec": {
   "display_name": "Python 3",
   "language": "python",
   "name": "python3"
  },
  "language_info": {
   "codemirror_mode": {
    "name": "ipython",
    "version": 3
   },
   "file_extension": ".py",
   "mimetype": "text/x-python",
   "name": "python",
   "nbconvert_exporter": "python",
   "pygments_lexer": "ipython3",
   "version": "3.7.4"
  }
 },
 "nbformat": 4,
 "nbformat_minor": 2
}
