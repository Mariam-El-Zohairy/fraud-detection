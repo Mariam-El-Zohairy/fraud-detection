{
 "cells": [
  {
   "cell_type": "code",
   "execution_count": 9,
   "metadata": {},
   "outputs": [
    {
     "name": "stdout",
     "output_type": "stream",
     "text": [
      "Not Fraud\n"
     ]
    }
   ],
   "source": [
    "import numpy as np\n",
    "V1=1\n",
    "V2=2\n",
    "V3=3\n",
    "V4=4\n",
    "V9=9\n",
    "V10=10\n",
    "V11=11\n",
    "V12=12\n",
    "V14=14\n",
    "V18=18\n",
    "V19=19\n",
    "S_Amount=29\n",
    "Entery=[]\n",
    "Entery.extend((V1,V2,V3,V4,V9,V10,V11,V12,V14,V18,V19,S_Amount))\n",
    "Array_Entery=np.asarray(Entery).reshape(1, -1)\n",
    "import pickle\n",
    "filename = 'Finalized_model_Poly_12F'\n",
    "with open(filename, 'rb') as file:\n",
    "    Pickled_LR_Model = pickle.load(file)\n",
    "    y_pred = Pickled_LR_Model.predict(Array_Entery)\n",
    "if y_pred==1:\n",
    "    print (\"Fraud\")\n",
    "else:\n",
    "    print (\"Not Fraud\")\n",
    "    "
   ]
  }
 ],
 "metadata": {
  "kernelspec": {
   "display_name": "Python 3",
   "language": "python",
   "name": "python3"
  },
  "language_info": {
   "codemirror_mode": {
    "name": "ipython",
    "version": 3
   },
   "file_extension": ".py",
   "mimetype": "text/x-python",
   "name": "python",
   "nbconvert_exporter": "python",
   "pygments_lexer": "ipython3",
   "version": "3.7.4"
  }
 },
 "nbformat": 4,
 "nbformat_minor": 2
}
